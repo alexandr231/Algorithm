{
 "cells": [
  {
   "cell_type": "markdown",
   "id": "fifteen-sailing",
   "metadata": {},
   "source": [
    "# Лабораторная работа №1\n",
    "## Выполнил студент группы БВТ 2004 Разномазов Александр"
   ]
  },
  {
   "cell_type": "markdown",
   "id": "particular-syndicate",
   "metadata": {},
   "source": [
    "### Оглавление\n",
    "1. [Задание 1](#Задание-№1)\n",
    "2. [Задание 2](#Задание-№2)\n",
    "3. [Задание 3](#Задание-№3)\n",
    "4. [Вывод](#Вывод)"
   ]
  },
  {
   "cell_type": "markdown",
   "id": "arctic-stocks",
   "metadata": {},
   "source": [
    "### Задание №1\n",
    "<i> Вызвать функцию print() и передать туда строку Hello, World! </i>"
   ]
  },
  {
   "cell_type": "code",
   "execution_count": 1,
   "id": "caring-truck",
   "metadata": {
    "scrolled": true
   },
   "outputs": [
    {
     "name": "stdout",
     "output_type": "stream",
     "text": [
      "Hello, World!\n"
     ]
    }
   ],
   "source": [
    "print(\"Hello, World!\")"
   ]
  },
  {
   "cell_type": "markdown",
   "id": "maritime-conversation",
   "metadata": {},
   "source": [
    "### Задание №2\n",
    "Написать генератор случайных матриц(многомерных), который принимает\n",
    "опциональные параметры <b>m</b>, <b>n</b>, <b>min_limit</b>, <b>max_limit</b>, где <b>m</b> и <b>n</b> указывают размер\n",
    "матрицы, а <b>min_lim</b> и <b>max_lim</b> - минимальное и максимальное значение для\n",
    "генерируемого числа."
   ]
  },
  {
   "cell_type": "code",
   "execution_count": 2,
   "id": "built-contact",
   "metadata": {},
   "outputs": [],
   "source": [
    "import random\n",
    "import time\n",
    "import copy"
   ]
  },
  {
   "cell_type": "code",
   "execution_count": 13,
   "id": "alert-charm",
   "metadata": {},
   "outputs": [
    {
     "name": "stdout",
     "output_type": "stream",
     "text": [
      "5\n",
      "5\n",
      "1\n",
      "20\n",
      "  14  14  13  19   8\n",
      "  12  17  16  19   9\n",
      "   5  16   9   1  11\n",
      "   9   9  17   1  16\n",
      "  17  15   6  16  14\n"
     ]
    }
   ],
   "source": [
    "def printMatrix (matrix):\n",
    "    for i in range (user_n):\n",
    "        for j in range (user_m):\n",
    "            print ( \"{:4d}\".format(matrix[i][j]), end = \"\" )\n",
    "        print ()\n",
    "user_m = int(input())\n",
    "user_n = int(input())\n",
    "user_min_limit = int(input())\n",
    "user_max_limit = int(input())\n",
    "matrix = [[random.randint(user_min_limit, user_max_limit) for i in range(user_m)] for j in range(user_n)]\n",
    "    \n",
    "printMatrix (matrix)"
   ]
  },
  {
   "cell_type": "markdown",
   "id": "catholic-roots",
   "metadata": {},
   "source": [
    "### Задание №3\n",
    "Реализовать методы сортировки строк числовой матрицы в соответствии с\n",
    "заданием. Оценить время работы каждого алгоритма сортировки и сравнить его со\n",
    "временем стандартной функции сортировки. Испытания проводить на сгенерированных\n",
    "матрицах."
   ]
  },
  {
   "cell_type": "code",
   "execution_count": 15,
   "id": "opposed-creature",
   "metadata": {},
   "outputs": [
    {
     "name": "stdout",
     "output_type": "stream",
     "text": [
      "--- 0.075900 ms ---\n",
      "   1   5   9  11  16\n",
      "   1   9   9  16  17\n",
      "   6  14  15  16  17\n",
      "   8  13  14  14  19\n",
      "   9  12  16  17  19\n"
     ]
    }
   ],
   "source": [
    "# Сортировка с использованием стандартной функции сортировки\n",
    "matrix = copy.deepcopy(matrix)\n",
    "start_time = time.perf_counter()\n",
    "\n",
    "for row in matrix:\n",
    "    row.sort()\n",
    "    \n",
    "matrix.sort()\n",
    "print(\"--- {:.6f} ms ---\".format((time.perf_counter() - start_time) * 1000))\n",
    "printMatrix(matrix)"
   ]
  },
  {
   "cell_type": "code",
   "execution_count": 16,
   "id": "cleared-anniversary",
   "metadata": {},
   "outputs": [
    {
     "name": "stdout",
     "output_type": "stream",
     "text": [
      "--- 0.141800 ms ---\n",
      "   1   5   9  11  16\n",
      "   1   9   9  16  17\n",
      "   6  14  15  16  17\n",
      "   8  13  14  14  19\n",
      "   9  12  16  17  19\n"
     ]
    }
   ],
   "source": [
    "# Сортировка выбором.\n",
    "# Берётся срез массива, в котором минимальный элемент переносят в самый левый угол,\n",
    "# после чего срез уменьшается и цикл повторяется.\n",
    "def selection_sort(values: list):\n",
    "    for x in range(len(values) - 1):\n",
    "        max_val = values[x]\n",
    "        max_index = x\n",
    "        for y in range(x, len(values)):\n",
    "            if max_val > values[y]:\n",
    "                max_val = values[y]\n",
    "                max_index = y\n",
    "        values[x], values[max_index] = values[max_index], values[x]\n",
    "start_time = time.perf_counter()\n",
    "\n",
    "for row in matrix:\n",
    "    selection_sort(row)\n",
    "        \n",
    "selection_sort(matrix)\n",
    "        \n",
    "print(\"--- {:.6f} ms ---\".format((time.perf_counter() - start_time) * 1000))\n",
    "printMatrix(matrix)"
   ]
  },
  {
   "cell_type": "code",
   "execution_count": 19,
   "id": "roman-silly",
   "metadata": {
    "scrolled": true
   },
   "outputs": [
    {
     "name": "stdout",
     "output_type": "stream",
     "text": [
      "--- 0.070200 ms ---\n",
      "   1   5   9  11  16\n",
      "   1   9   9  16  17\n",
      "   6  14  15  16  17\n",
      "   8  13  14  14  19\n",
      "   9  12  16  17  19\n"
     ]
    }
   ],
   "source": [
    "# Сортировка вставкой.\n",
    "\n",
    "matrix = copy.deepcopy(matrix)\n",
    "\n",
    "def insertion_sort(values: list):\n",
    "    for i in range(len(values)):\n",
    "        buffer = values[i]\n",
    "        j = i - 1\n",
    "        while buffer < values[j] and j >= 0:\n",
    "            values[j + 1] = values[j]\n",
    "            j -= 1\n",
    "        values[j + 1] = buffer\n",
    "\n",
    "start_time = time.perf_counter()\n",
    "\n",
    "for row in matrix:\n",
    "    insertion_sort(row)\n",
    "    \n",
    "insertion_sort(matrix)\n",
    "\n",
    "print(\"--- {:.6f} ms ---\".format((time.perf_counter() - start_time) * 1000))\n",
    "printMatrix(matrix)"
   ]
  },
  {
   "cell_type": "code",
   "execution_count": 20,
   "id": "vital-implementation",
   "metadata": {},
   "outputs": [
    {
     "name": "stdout",
     "output_type": "stream",
     "text": [
      "--- 0.124500 ms ---\n",
      "   1   5   9  11  16\n",
      "   1   9   9  16  17\n",
      "   6  14  15  16  17\n",
      "   8  13  14  14  19\n",
      "   9  12  16  17  19\n"
     ]
    }
   ],
   "source": [
    "# Сортировка обменом. || Сортировка пузырьком.\n",
    "matrix = copy.deepcopy(matrix)\n",
    "\n",
    "def bubble_sort(values: list):\n",
    "    for i in range(len(values) - 1):\n",
    "        for j in range(len(values) - 1 - i):\n",
    "            if values[j] > values[j + 1]:\n",
    "                values[j], values[j + 1] = values[j + 1], values[j]\n",
    "\n",
    "start_time = time.perf_counter()\n",
    "                \n",
    "for row in matrix:\n",
    "    bubble_sort(row)\n",
    "    \n",
    "bubble_sort(matrix)\n",
    "\n",
    "print(\"--- {:.6f} ms ---\".format((time.perf_counter() - start_time) * 1000))\n",
    "printMatrix(matrix)"
   ]
  },
  {
   "cell_type": "code",
   "execution_count": 22,
   "id": "veterinary-glory",
   "metadata": {},
   "outputs": [
    {
     "name": "stdout",
     "output_type": "stream",
     "text": [
      "--- 0.124900 ms ---\n",
      "   1   5   9  11  16\n",
      "   1   9   9  16  17\n",
      "   6  14  15  16  17\n",
      "   8  13  14  14  19\n",
      "   9  12  16  17  19\n"
     ]
    }
   ],
   "source": [
    "# Сортировка Шелла.\n",
    "matrix = copy.deepcopy(matrix)\n",
    "\n",
    "def shell_sort(values: list):\n",
    "    step = len(values) >> 1\n",
    "    while step > 0:\n",
    "        for i in range(step, len(values)):\n",
    "            buffer = values[i]\n",
    "            j = i - step\n",
    "            while buffer < values[j] and j >= 0:\n",
    "                values[j + step] = values[j]\n",
    "                j -= step\n",
    "            values[j + step] = buffer\n",
    "        step = step >> 1\n",
    "\n",
    "start_time = time.perf_counter()\n",
    "\n",
    "for row in matrix:\n",
    "    shell_sort(row)\n",
    "    \n",
    "shell_sort(matrix)\n",
    "\n",
    "print(\"--- {:.6f} ms ---\".format((time.perf_counter() - start_time) * 1000))\n",
    "printMatrix(matrix)"
   ]
  },
  {
   "cell_type": "code",
   "execution_count": 23,
   "id": "correct-chaos",
   "metadata": {},
   "outputs": [
    {
     "name": "stdout",
     "output_type": "stream",
     "text": [
      "--- 0.092900 ms ---\n",
      "   1   5   9  11  16\n",
      "   1   9   9  16  17\n",
      "   6  14  15  16  17\n",
      "   8  13  14  14  19\n",
      "   9  12  16  17  19\n"
     ]
    }
   ],
   "source": [
    "# Быстрая сортировка.\n",
    "matrix = copy.deepcopy(matrix)\n",
    "\n",
    "def partition(values: list, start: int, end: int) -> int:\n",
    "    a = values[(start + end) >> 1]\n",
    "    i = start\n",
    "    j = end\n",
    "    \n",
    "    while i <= j:\n",
    "        while values[i] < a:\n",
    "            i += 1\n",
    "        while values[j] > a:\n",
    "            j -= 1\n",
    "            \n",
    "        if i <= j:\n",
    "            values[i], values[j] = values[j], values[i]\n",
    "            i += 1\n",
    "            j -= 1\n",
    "        \n",
    "    return j\n",
    "\n",
    "def fast_sort(values: list, start: int, end: int):\n",
    "    a = partition(values, start, end)    \n",
    "    if (a - start > 1):\n",
    "        fast_sort(values, start, a)\n",
    "\n",
    "    if (end - (a + 1) > 1):\n",
    "        fast_sort(values, a + 1, end)\n",
    "        \n",
    "\n",
    "start_time = time.perf_counter()        \n",
    "\n",
    "for row in matrix:\n",
    "    fast_sort(row, 0, len(row) - 1)\n",
    "    \n",
    "fast_sort(matrix, 0, len(matrix) - 1)\n",
    "    \n",
    "print(\"--- {:.6f} ms ---\".format((time.perf_counter() - start_time) * 1000))\n",
    "printMatrix(matrix)\n",
    "    "
   ]
  },
  {
   "cell_type": "code",
   "execution_count": 26,
   "id": "french-czech",
   "metadata": {},
   "outputs": [
    {
     "name": "stdout",
     "output_type": "stream",
     "text": [
      "--- 0.094500 ms ---\n",
      "   1   5   9  11  16\n",
      "   1   9   9  16  17\n",
      "   6  14  15  16  17\n",
      "   8  13  14  14  19\n",
      "   9  12  16  17  19\n"
     ]
    }
   ],
   "source": [
    "# Турнирная сортировка.\n",
    "from heapq import *\n",
    "\n",
    "matrix = copy.deepcopy(matrix)\n",
    "\n",
    "MAX_SIZE = 16\n",
    "\n",
    "def multipath_merge(a: list, b: list) -> list:\n",
    "    result = []\n",
    "    \n",
    "    while len(a) > 0 and len(b) > 0:\n",
    "        if (b[0] < a[0]):\n",
    "            result.append(b.pop(0))\n",
    "        else:\n",
    "            result.append(a.pop(0))\n",
    "            \n",
    "    len_a = len(a)\n",
    "    len_b = len(b)\n",
    "    \n",
    "    if (len_a == 0 and len_b == 0):\n",
    "        return result\n",
    "    \n",
    "    if (len_a > 0):\n",
    "        result += a\n",
    "    else:\n",
    "        result += b\n",
    "                \n",
    "    return result\n",
    "\n",
    "def optimal_tournament_sort(values: list) -> list:\n",
    "    heap = []\n",
    "    \n",
    "    for i in values:\n",
    "        heappush(heap, i)\n",
    "        \n",
    "    for i in range(len(heap)):\n",
    "        values[i] = heappop(heap)\n",
    "    \n",
    "    return values\n",
    "                \n",
    "def bracketize(values: list) -> list:\n",
    "    heap = []\n",
    "    \n",
    "    while len(heap) <= MAX_SIZE:\n",
    "        heappush(heap, values.pop(0))\n",
    "        \n",
    "    winners = []\n",
    "    losers = []\n",
    "    \n",
    "    while len(values) > 0:\n",
    "        if len(winners) == 0:\n",
    "            winners.append(heappop(heap))\n",
    "            \n",
    "        if values[0] > winners[-1]:\n",
    "            heappush(heap, values.pop(0))\n",
    "        else:\n",
    "            losers.append(values.pop(0))\n",
    "            \n",
    "        if len(heap) > 0:\n",
    "            winners.append(heappop(heap))\n",
    "            \n",
    "    while len(heap) > 0:\n",
    "        winners.append(heappop(heap))\n",
    "        \n",
    "    if len(losers) == 0:\n",
    "        return winners\n",
    "    \n",
    "    return multipath_merge(tournament_sort(losers), winners)\n",
    "\n",
    "\n",
    "def tournament_sort(values: list) -> list:\n",
    "    if (len(values) <= MAX_SIZE):\n",
    "        return optimal_tournament_sort(values)\n",
    "    else:\n",
    "        return bracketize(values)\n",
    "\n",
    "start_time = time.perf_counter()\n",
    "\n",
    "for i in range(len(matrix)):\n",
    "    matrix[i] = tournament_sort(matrix[i])\n",
    "    \n",
    "matrix = tournament_sort(matrix)\n",
    "    \n",
    "print(\"--- {:.6f} ms ---\".format((time.perf_counter() - start_time) * 1000))\n",
    "printMatrix(matrix)"
   ]
  },
  {
   "cell_type": "markdown",
   "id": "rental-jerusalem",
   "metadata": {},
   "source": [
    "### Вывод\n"
   ]
  },
  {
   "cell_type": "markdown",
   "id": "9d108a0a",
   "metadata": {},
   "source": [
    "ту"
   ]
  }
 ],
 "metadata": {
  "kernelspec": {
   "display_name": "Python 3 (ipykernel)",
   "language": "python",
   "name": "python3"
  },
  "language_info": {
   "codemirror_mode": {
    "name": "ipython",
    "version": 3
   },
   "file_extension": ".py",
   "mimetype": "text/x-python",
   "name": "python",
   "nbconvert_exporter": "python",
   "pygments_lexer": "ipython3",
   "version": "3.10.2"
  }
 },
 "nbformat": 4,
 "nbformat_minor": 5
}
