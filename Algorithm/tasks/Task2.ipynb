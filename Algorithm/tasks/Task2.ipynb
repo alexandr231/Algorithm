{
 "cells": [
  {
   "cell_type": "markdown",
   "id": "arctic-stocks",
   "metadata": {},
   "source": [
    "### Задание №1\n",
    "Массив A состоит из целых положительных чисел длин отрезков. Составьте из трех отрезков такой треугольник, чтобы его периметр был максимально возможным. Если невозможно составить треугольник с положительной площадью функция возвращает 0."
   ]
  },
  {
   "cell_type": "code",
   "execution_count": 5,
   "id": "caring-truck",
   "metadata": {
    "scrolled": true
   },
   "outputs": [
    {
     "data": {
      "text/plain": [
       "15"
      ]
     },
     "execution_count": 5,
     "metadata": {},
     "output_type": "execute_result"
    }
   ],
   "source": [
    "def triangle(arr):\n",
    "    arr.sort(reverse=True)\n",
    "    for i in range(0, len(arr) - 2):\n",
    "        if (arr[i] < arr[i+1] + arr[i+2]):\n",
    "            return arr[i] + arr[i+1] + arr[i+2]\n",
    "    return 0\n",
    "triangle([1, 2, 3, 4, 5, 6])"
   ]
  },
  {
   "cell_type": "markdown",
   "id": "maritime-conversation",
   "metadata": {},
   "source": [
    "### Задание №2\n",
    "Дан массив неотрицательных целых чисел nums. Расположите их в таком порядке, чтобы вместе они образовали максимально возможное число. Замечание: Результат может быть очень большим числом, поэтому представьте его как string, а не integer."
   ]
  },
  {
   "cell_type": "code",
   "execution_count": 9,
   "id": "alert-charm",
   "metadata": {
    "scrolled": false
   },
   "outputs": [
    {
     "name": "stdout",
     "output_type": "stream",
     "text": [
      "62242342114101\n"
     ]
    }
   ],
   "source": [
    "nums = [14, 21, 24, 10, 234, 62,1]\n",
    "for j in range(0, len(nums)-1):\n",
    "    for i in range(0, len(nums) - 1):\n",
    "            if int(str(nums[i+1])[0]) > int(str(nums[i])[0]):\n",
    "                t = nums[i+1]\n",
    "                nums[i + 1] = nums[i]\n",
    "                nums[i] = t\n",
    "            for k in range(1, min(len(str(nums[i + 1])), len(str(nums[i])))):\n",
    "                if (int(str(nums[i+1])[0]) == int(str(nums[i])[0])) & (int(str(nums[i + 1])[k]) >= int(str(nums[i])[k])):\n",
    "                    t = nums[i + 1]\n",
    "                    nums[i + 1] = nums[i]\n",
    "                    nums[i] = t\n",
    "ans = \"\"\n",
    "for i in range(0, len(nums)):\n",
    "  ans += str(nums[i])\n",
    "print(ans)"
   ]
  },
  {
   "cell_type": "markdown",
   "id": "catholic-roots",
   "metadata": {},
   "source": [
    "### Задание №3\n",
    "Дана матрица mat размером m * n, значения целочисленные. Напишите функцию, сортирующую каждую диагональ матрицы по возрастанию и возвращающую получившуюся матрицу."
   ]
  },
  {
   "cell_type": "code",
   "execution_count": 11,
   "id": "cleared-anniversary",
   "metadata": {
    "scrolled": false
   },
   "outputs": [
    {
     "name": "stdout",
     "output_type": "stream",
     "text": [
      "183\n",
      "654\n",
      "729\n"
     ]
    }
   ],
   "source": [
    "mat = [[9, 8, 7], [6, 5, 4], [3, 2, 1]]\n",
    "for k in range(len(mat)):\n",
    "    for i in range(1, len(mat)):\n",
    "        for j in range(1, len(mat[0])):\n",
    "            if (j == i) & (mat[i-1][j-1] > mat[i][j]):\n",
    "                t = mat[i-1][j-1]\n",
    "                mat[i-1][j-1] = mat[i][j]\n",
    "                mat[i][j] = t\n",
    "for k in range(len(mat)):\n",
    "    for i in range(len(mat)-1):\n",
    "        for j in range(1, len(mat[0])):\n",
    "            if (i == len(mat[i])-j-1) and (mat[i+1][j-1] < mat[i][j]):\n",
    "                t = mat[i+1][j-1]\n",
    "                mat[i+1][j-1] = mat[i][j]\n",
    "                mat[i][j] = t\n",
    "for i in range(len(mat)):\n",
    "    s = \"\"\n",
    "    for j in range(len(mat[i])):\n",
    "        s += str(mat[i][j])\n",
    "    print(s)"
   ]
  },
  {
   "cell_type": "code",
   "execution_count": null,
   "id": "e095e2aa",
   "metadata": {},
   "outputs": [],
   "source": []
  }
 ],
 "metadata": {
  "kernelspec": {
   "display_name": "Python 3 (ipykernel)",
   "language": "python",
   "name": "python3"
  },
  "language_info": {
   "codemirror_mode": {
    "name": "ipython",
    "version": 3
   },
   "file_extension": ".py",
   "mimetype": "text/x-python",
   "name": "python",
   "nbconvert_exporter": "python",
   "pygments_lexer": "ipython3",
   "version": "3.10.2"
  }
 },
 "nbformat": 4,
 "nbformat_minor": 5
}
